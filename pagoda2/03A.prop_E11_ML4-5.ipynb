{
 "cells": [
  {
   "cell_type": "code",
   "execution_count": 1,
   "metadata": {},
   "outputs": [],
   "source": [
    "import cudf\n",
    "import sys\n",
    "import scanpy as sc\n",
    "import scFates as scf\n",
    "sys.path.append(\"../ConceptFates/\")\n",
    "sc.settings.verbosity=3\n",
    "sc.set_figure_params(dpi=150)\n",
    "\n",
    "import gpu_wrappers\n",
    "import rapids_scanpy_funcs as rap"
   ]
  },
  {
   "cell_type": "code",
   "execution_count": 2,
   "metadata": {},
   "outputs": [],
   "source": [
    "import pandas as pd\n"
   ]
  },
  {
   "cell_type": "code",
   "execution_count": 3,
   "metadata": {},
   "outputs": [],
   "source": [
    "adata=gpu_wrappers.load_mtx(\"ML4-5/\")\n"
   ]
  },
  {
   "cell_type": "code",
   "execution_count": 5,
   "metadata": {},
   "outputs": [],
   "source": [
    "adata.obs[\"leiden\"]=pd.read_table(\"ML4-5/leiden.tsv\",header=None)[0].values.astype(str)"
   ]
  },
  {
   "cell_type": "code",
   "execution_count": 6,
   "metadata": {},
   "outputs": [],
   "source": [
    "adata.obs[\"batch\"]=list(map(lambda n: n.split(\"_\")[0], adata.obs_names))\n"
   ]
  },
  {
   "cell_type": "code",
   "execution_count": 7,
   "metadata": {},
   "outputs": [],
   "source": [
    "adata.obs.batch=adata.obs.batch.astype(\"category\")\n",
    "adata.obs.leiden=adata.obs.leiden.astype(\"category\")"
   ]
  },
  {
   "cell_type": "code",
   "execution_count": 8,
   "metadata": {},
   "outputs": [],
   "source": [
    "import proportion_test"
   ]
  },
  {
   "cell_type": "code",
   "execution_count": 9,
   "metadata": {},
   "outputs": [
    {
     "name": "stderr",
     "output_type": "stream",
     "text": [
      "100%|██████████| 10000/10000 [00:07<00:00, 1328.05it/s]\n",
      "100%|██████████| 10000/10000 [00:09<00:00, 1088.48it/s]\n",
      "/home/lfaure/miniconda3/envs/bio-gpu-18/lib/python3.8/site-packages/numpy/lib/function_base.py:3961: RuntimeWarning: invalid value encountered in subtract\n",
      "  diff_b_a = subtract(b, a)\n"
     ]
    }
   ],
   "source": [
    "prop_res = proportion_test.proportion_test(adata,\"batch\",\"leiden\",\"ML4\",\"ML5\",\n",
    "                      n_permutations=10000,n_jobs=10)"
   ]
  },
  {
   "cell_type": "code",
   "execution_count": 10,
   "metadata": {},
   "outputs": [
    {
     "data": {
      "text/html": [
       "<div>\n",
       "<style scoped>\n",
       "    .dataframe tbody tr th:only-of-type {\n",
       "        vertical-align: middle;\n",
       "    }\n",
       "\n",
       "    .dataframe tbody tr th {\n",
       "        vertical-align: top;\n",
       "    }\n",
       "\n",
       "    .dataframe thead th {\n",
       "        text-align: right;\n",
       "    }\n",
       "</style>\n",
       "<table border=\"1\" class=\"dataframe\">\n",
       "  <thead>\n",
       "    <tr style=\"text-align: right;\">\n",
       "      <th></th>\n",
       "      <th>ML4</th>\n",
       "      <th>ML5</th>\n",
       "      <th>obs_log2FD</th>\n",
       "      <th>pval</th>\n",
       "      <th>fdr</th>\n",
       "      <th>boot_mean_log2FD</th>\n",
       "      <th>boot_CI_2.5</th>\n",
       "      <th>boot_CI_97.5</th>\n",
       "      <th>significance</th>\n",
       "    </tr>\n",
       "    <tr>\n",
       "      <th>clusters</th>\n",
       "      <th></th>\n",
       "      <th></th>\n",
       "      <th></th>\n",
       "      <th></th>\n",
       "      <th></th>\n",
       "      <th></th>\n",
       "      <th></th>\n",
       "      <th></th>\n",
       "      <th></th>\n",
       "    </tr>\n",
       "  </thead>\n",
       "  <tbody>\n",
       "    <tr>\n",
       "      <th>1</th>\n",
       "      <td>0.255278</td>\n",
       "      <td>0.202604</td>\n",
       "      <td>-0.333410</td>\n",
       "      <td>0.000500</td>\n",
       "      <td>0.001100</td>\n",
       "      <td>-0.335409</td>\n",
       "      <td>-0.538483</td>\n",
       "      <td>-0.134770</td>\n",
       "      <td>n.s.</td>\n",
       "    </tr>\n",
       "    <tr>\n",
       "      <th>12</th>\n",
       "      <td>0.011516</td>\n",
       "      <td>0.028478</td>\n",
       "      <td>1.306191</td>\n",
       "      <td>0.001200</td>\n",
       "      <td>0.001886</td>\n",
       "      <td>1.331136</td>\n",
       "      <td>0.504374</td>\n",
       "      <td>2.234358</td>\n",
       "      <td>FDR &lt; 0.05 &amp; abs(Log2FD) &gt; 0.58</td>\n",
       "    </tr>\n",
       "    <tr>\n",
       "      <th>13</th>\n",
       "      <td>0.031990</td>\n",
       "      <td>0.021155</td>\n",
       "      <td>-0.596584</td>\n",
       "      <td>0.049195</td>\n",
       "      <td>0.067643</td>\n",
       "      <td>-0.605431</td>\n",
       "      <td>-1.331239</td>\n",
       "      <td>0.057326</td>\n",
       "      <td>n.s.</td>\n",
       "    </tr>\n",
       "    <tr>\n",
       "      <th>14</th>\n",
       "      <td>0.003199</td>\n",
       "      <td>0.000814</td>\n",
       "      <td>-1.975095</td>\n",
       "      <td>0.182482</td>\n",
       "      <td>0.182482</td>\n",
       "      <td>NaN</td>\n",
       "      <td>NaN</td>\n",
       "      <td>0.346833</td>\n",
       "      <td>n.s.</td>\n",
       "    </tr>\n",
       "    <tr>\n",
       "      <th>2</th>\n",
       "      <td>0.056302</td>\n",
       "      <td>0.093572</td>\n",
       "      <td>0.732891</td>\n",
       "      <td>0.000100</td>\n",
       "      <td>0.000367</td>\n",
       "      <td>0.735520</td>\n",
       "      <td>0.346833</td>\n",
       "      <td>1.129241</td>\n",
       "      <td>FDR &lt; 0.05 &amp; abs(Log2FD) &gt; 0.58</td>\n",
       "    </tr>\n",
       "    <tr>\n",
       "      <th>3</th>\n",
       "      <td>0.256558</td>\n",
       "      <td>0.152970</td>\n",
       "      <td>-0.746037</td>\n",
       "      <td>0.000100</td>\n",
       "      <td>0.000367</td>\n",
       "      <td>-0.748957</td>\n",
       "      <td>-0.975095</td>\n",
       "      <td>-0.526375</td>\n",
       "      <td>FDR &lt; 0.05 &amp; abs(Log2FD) &gt; 0.58</td>\n",
       "    </tr>\n",
       "    <tr>\n",
       "      <th>4</th>\n",
       "      <td>0.090211</td>\n",
       "      <td>0.145647</td>\n",
       "      <td>0.691097</td>\n",
       "      <td>0.000100</td>\n",
       "      <td>0.000367</td>\n",
       "      <td>0.694983</td>\n",
       "      <td>0.400915</td>\n",
       "      <td>0.999912</td>\n",
       "      <td>FDR &lt; 0.05 &amp; abs(Log2FD) &gt; 0.58</td>\n",
       "    </tr>\n",
       "    <tr>\n",
       "      <th>5</th>\n",
       "      <td>0.033909</td>\n",
       "      <td>0.023596</td>\n",
       "      <td>-0.523107</td>\n",
       "      <td>0.066193</td>\n",
       "      <td>0.078862</td>\n",
       "      <td>-0.532409</td>\n",
       "      <td>-1.238130</td>\n",
       "      <td>0.105896</td>\n",
       "      <td>n.s.</td>\n",
       "    </tr>\n",
       "    <tr>\n",
       "      <th>6</th>\n",
       "      <td>0.051184</td>\n",
       "      <td>0.086249</td>\n",
       "      <td>0.752825</td>\n",
       "      <td>0.000200</td>\n",
       "      <td>0.000550</td>\n",
       "      <td>0.753369</td>\n",
       "      <td>0.346833</td>\n",
       "      <td>1.172816</td>\n",
       "      <td>FDR &lt; 0.05 &amp; abs(Log2FD) &gt; 0.58</td>\n",
       "    </tr>\n",
       "    <tr>\n",
       "      <th>7</th>\n",
       "      <td>0.161228</td>\n",
       "      <td>0.208299</td>\n",
       "      <td>0.369553</td>\n",
       "      <td>0.000700</td>\n",
       "      <td>0.001283</td>\n",
       "      <td>0.369632</td>\n",
       "      <td>0.139023</td>\n",
       "      <td>0.598623</td>\n",
       "      <td>n.s.</td>\n",
       "    </tr>\n",
       "    <tr>\n",
       "      <th>9</th>\n",
       "      <td>0.048624</td>\n",
       "      <td>0.036615</td>\n",
       "      <td>-0.409242</td>\n",
       "      <td>0.071693</td>\n",
       "      <td>0.078862</td>\n",
       "      <td>-0.416995</td>\n",
       "      <td>-0.956948</td>\n",
       "      <td>0.083798</td>\n",
       "      <td>n.s.</td>\n",
       "    </tr>\n",
       "  </tbody>\n",
       "</table>\n",
       "</div>"
      ],
      "text/plain": [
       "               ML4       ML5  obs_log2FD      pval       fdr  \\\n",
       "clusters                                                       \n",
       "1         0.255278  0.202604   -0.333410  0.000500  0.001100   \n",
       "12        0.011516  0.028478    1.306191  0.001200  0.001886   \n",
       "13        0.031990  0.021155   -0.596584  0.049195  0.067643   \n",
       "14        0.003199  0.000814   -1.975095  0.182482  0.182482   \n",
       "2         0.056302  0.093572    0.732891  0.000100  0.000367   \n",
       "3         0.256558  0.152970   -0.746037  0.000100  0.000367   \n",
       "4         0.090211  0.145647    0.691097  0.000100  0.000367   \n",
       "5         0.033909  0.023596   -0.523107  0.066193  0.078862   \n",
       "6         0.051184  0.086249    0.752825  0.000200  0.000550   \n",
       "7         0.161228  0.208299    0.369553  0.000700  0.001283   \n",
       "9         0.048624  0.036615   -0.409242  0.071693  0.078862   \n",
       "\n",
       "          boot_mean_log2FD  boot_CI_2.5  boot_CI_97.5  \\\n",
       "clusters                                                \n",
       "1                -0.335409    -0.538483     -0.134770   \n",
       "12                1.331136     0.504374      2.234358   \n",
       "13               -0.605431    -1.331239      0.057326   \n",
       "14                     NaN          NaN      0.346833   \n",
       "2                 0.735520     0.346833      1.129241   \n",
       "3                -0.748957    -0.975095     -0.526375   \n",
       "4                 0.694983     0.400915      0.999912   \n",
       "5                -0.532409    -1.238130      0.105896   \n",
       "6                 0.753369     0.346833      1.172816   \n",
       "7                 0.369632     0.139023      0.598623   \n",
       "9                -0.416995    -0.956948      0.083798   \n",
       "\n",
       "                             significance  \n",
       "clusters                                   \n",
       "1                                    n.s.  \n",
       "12        FDR < 0.05 & abs(Log2FD) > 0.58  \n",
       "13                                   n.s.  \n",
       "14                                   n.s.  \n",
       "2         FDR < 0.05 & abs(Log2FD) > 0.58  \n",
       "3         FDR < 0.05 & abs(Log2FD) > 0.58  \n",
       "4         FDR < 0.05 & abs(Log2FD) > 0.58  \n",
       "5                                    n.s.  \n",
       "6         FDR < 0.05 & abs(Log2FD) > 0.58  \n",
       "7                                    n.s.  \n",
       "9                                    n.s.  "
      ]
     },
     "execution_count": 10,
     "metadata": {},
     "output_type": "execute_result"
    }
   ],
   "source": [
    "prop_res"
   ]
  },
  {
   "cell_type": "code",
   "execution_count": 13,
   "metadata": {},
   "outputs": [
    {
     "data": {
      "text/plain": [
       "2.0"
      ]
     },
     "execution_count": 13,
     "metadata": {},
     "output_type": "execute_result"
    }
   ],
   "source": [
    "import numpy as np\n",
    "np.log2(4)"
   ]
  },
  {
   "cell_type": "code",
   "execution_count": 11,
   "metadata": {},
   "outputs": [
    {
     "data": {
      "image/png": "[encoded data removed]",
      "text/plain": [
       "<Figure size 600x600 with 1 Axes>"
      ]
     },
     "metadata": {
      "needs_background": "light"
     },
     "output_type": "display_data"
    }
   ],
   "source": [
    "import imp\n",
    "imp.reload(proportion_test)\n",
    "\n",
    "import matplotlib.pyplot as plt\n",
    "plt.rcParams['svg.fonttype'] = 'none'\n",
    "plt.rcParams['font.family'] = ['sans-serif']\n",
    "plt.rcParams['font.sans-serif'] = ['Arial']\n",
    "proportion_test.plot_proportion_test(prop_res)"
   ]
  },
  {
   "cell_type": "code",
   "execution_count": 17,
   "metadata": {},
   "outputs": [],
   "source": [
    "prop_res.to_csv(\"ML4-5/perm_test_res_ML4-5.csv\")"
   ]
  },
  {
   "cell_type": "code",
   "execution_count": 14,
   "metadata": {},
   "outputs": [],
   "source": [
    "res=pd.DataFrame(0,index=adata.obs.batch.cat.categories,columns=adata.obs.leiden.cat.categories)\n",
    "res=pd.concat(list(map(lambda b: (adata.obs.loc[adata.obs.batch==b,\"leiden\"].value_counts()/(adata.obs.batch==b).sum())*100,\n",
    "         adata.obs.batch.cat.categories)),axis=1)\n",
    "res.columns=adata.obs.batch.cat.categories\n",
    "\n",
    "totals=pd.DataFrame(list(map(lambda b: (adata.obs.batch==b).sum(),res.columns)),\n",
    "            columns=[\"total\"],index=res.columns).T\n",
    "\n",
    "res.index = res.index.astype(str)\n",
    "\n",
    "res = pd.concat([res,pd.DataFrame(list(map(lambda b: (adata.obs.batch==b).sum(),res.columns)),\n",
    "            columns=[\"total\"],index=res.columns).T],axis=0)\n",
    "res.loc[\"total\"]=res.loc[\"total\"].astype(int)"
   ]
  },
  {
   "cell_type": "code",
   "execution_count": 15,
   "metadata": {},
   "outputs": [],
   "source": [
    "res.to_csv(\"ML4-5/prop_totals.csv\")"
   ]
  }
 ],
 "metadata": {
  "kernelspec": {
   "display_name": "bio-gpu-18",
   "language": "python",
   "name": "bio-gpu-18"
  },
  "language_info": {
   "codemirror_mode": {
    "name": "ipython",
    "version": 3
   },
   "file_extension": ".py",
   "mimetype": "text/x-python",
   "name": "python",
   "nbconvert_exporter": "python",
   "pygments_lexer": "ipython3",
   "version": "3.8.8"
  }
 },
 "nbformat": 4,
 "nbformat_minor": 4
}
