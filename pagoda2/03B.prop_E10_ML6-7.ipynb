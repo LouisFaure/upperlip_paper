{
 "cells": [
  {
   "cell_type": "code",
   "execution_count": 1,
   "metadata": {},
   "outputs": [],
   "source": [
    "import cudf\n",
    "import sys\n",
    "import scanpy as sc\n",
    "import scFates as scf\n",
    "sys.path.append(\"../ConceptFates/\")\n",
    "sc.settings.verbosity=3\n",
    "sc.set_figure_params(dpi=150)\n",
    "\n",
    "import gpu_wrappers\n",
    "import rapids_scanpy_funcs as rap"
   ]
  },
  {
   "cell_type": "code",
   "execution_count": 2,
   "metadata": {},
   "outputs": [],
   "source": [
    "import pandas as pd\n"
   ]
  },
  {
   "cell_type": "code",
   "execution_count": 3,
   "metadata": {},
   "outputs": [],
   "source": [
    "adata=gpu_wrappers.load_mtx(\"ML6-7/scenic/\")\n"
   ]
  },
  {
   "cell_type": "code",
   "execution_count": 10,
   "metadata": {},
   "outputs": [],
   "source": [
    "adata.var[\"Gene\"]=adata.var_names\n",
    "adata.obs[\"CellID\"]=adata.obs_names"
   ]
  },
  {
   "cell_type": "code",
   "execution_count": 11,
   "metadata": {},
   "outputs": [],
   "source": [
    "adata.write_loom(\"ML6-7/scenic/adata.loom\")"
   ]
  },
  {
   "cell_type": "code",
   "execution_count": 4,
   "metadata": {},
   "outputs": [],
   "source": [
    "adata.obs[\"leiden\"]=pd.read_table(\"ML6-7/leiden.tsv\",header=None)[0].values.astype(str)"
   ]
  },
  {
   "cell_type": "code",
   "execution_count": 5,
   "metadata": {},
   "outputs": [],
   "source": [
    "adata.obs[\"batch\"]=list(map(lambda n: n.split(\"_\")[0], adata.obs_names))\n"
   ]
  },
  {
   "cell_type": "code",
   "execution_count": 6,
   "metadata": {},
   "outputs": [],
   "source": [
    "adata.obs.batch=adata.obs.batch.astype(\"category\")\n",
    "adata.obs.leiden=adata.obs.leiden.astype(\"category\")"
   ]
  },
  {
   "cell_type": "code",
   "execution_count": 7,
   "metadata": {},
   "outputs": [],
   "source": [
    "import proportion_test"
   ]
  },
  {
   "cell_type": "code",
   "execution_count": 8,
   "metadata": {},
   "outputs": [
    {
     "name": "stderr",
     "output_type": "stream",
     "text": [
      "/home/lfaure/miniconda3/envs/bio-gpu-18/lib/python3.8/site-packages/pandas/core/series.py:726: RuntimeWarning: divide by zero encountered in log2\n",
      "  result = getattr(ufunc, method)(*inputs, **kwargs)\n",
      "100%|██████████| 10000/10000 [00:10<00:00, 932.75it/s]\n",
      "100%|██████████| 10000/10000 [00:11<00:00, 853.25it/s]\n",
      "/home/lfaure/miniconda3/envs/bio-gpu-18/lib/python3.8/site-packages/numpy/lib/function_base.py:3961: RuntimeWarning: invalid value encountered in subtract\n",
      "  diff_b_a = subtract(b, a)\n"
     ]
    }
   ],
   "source": [
    "prop_res = proportion_test.proportion_test(adata,\"batch\",\"leiden\",\"ML6\",\"ML7\",\n",
    "                      n_permutations=10000,n_jobs=10)"
   ]
  },
  {
   "cell_type": "code",
   "execution_count": 9,
   "metadata": {},
   "outputs": [
    {
     "data": {
      "text/html": [
       "<div>\n",
       "<style scoped>\n",
       "    .dataframe tbody tr th:only-of-type {\n",
       "        vertical-align: middle;\n",
       "    }\n",
       "\n",
       "    .dataframe tbody tr th {\n",
       "        vertical-align: top;\n",
       "    }\n",
       "\n",
       "    .dataframe thead th {\n",
       "        text-align: right;\n",
       "    }\n",
       "</style>\n",
       "<table border=\"1\" class=\"dataframe\">\n",
       "  <thead>\n",
       "    <tr style=\"text-align: right;\">\n",
       "      <th></th>\n",
       "      <th>ML6</th>\n",
       "      <th>ML7</th>\n",
       "      <th>obs_log2FD</th>\n",
       "      <th>pval</th>\n",
       "      <th>fdr</th>\n",
       "      <th>boot_mean_log2FD</th>\n",
       "      <th>boot_CI_2.5</th>\n",
       "      <th>boot_CI_97.5</th>\n",
       "      <th>significance</th>\n",
       "    </tr>\n",
       "    <tr>\n",
       "      <th>clusters</th>\n",
       "      <th></th>\n",
       "      <th></th>\n",
       "      <th></th>\n",
       "      <th></th>\n",
       "      <th></th>\n",
       "      <th></th>\n",
       "      <th></th>\n",
       "      <th></th>\n",
       "      <th></th>\n",
       "    </tr>\n",
       "  </thead>\n",
       "  <tbody>\n",
       "    <tr>\n",
       "      <th>1</th>\n",
       "      <td>0.304450</td>\n",
       "      <td>0.291703</td>\n",
       "      <td>-0.061705</td>\n",
       "      <td>0.121188</td>\n",
       "      <td>0.196930</td>\n",
       "      <td>-0.061994</td>\n",
       "      <td>-0.160401</td>\n",
       "      <td>0.035714</td>\n",
       "      <td>n.s.</td>\n",
       "    </tr>\n",
       "    <tr>\n",
       "      <th>10</th>\n",
       "      <td>0.005600</td>\n",
       "      <td>0.006620</td>\n",
       "      <td>0.241377</td>\n",
       "      <td>0.332567</td>\n",
       "      <td>0.332567</td>\n",
       "      <td>0.248260</td>\n",
       "      <td>-0.598159</td>\n",
       "      <td>1.134955</td>\n",
       "      <td>n.s.</td>\n",
       "    </tr>\n",
       "    <tr>\n",
       "      <th>11</th>\n",
       "      <td>0.053345</td>\n",
       "      <td>0.057811</td>\n",
       "      <td>0.115991</td>\n",
       "      <td>0.203380</td>\n",
       "      <td>0.261274</td>\n",
       "      <td>0.116340</td>\n",
       "      <td>-0.147192</td>\n",
       "      <td>0.384607</td>\n",
       "      <td>n.s.</td>\n",
       "    </tr>\n",
       "    <tr>\n",
       "      <th>12</th>\n",
       "      <td>0.006189</td>\n",
       "      <td>0.004634</td>\n",
       "      <td>-0.417586</td>\n",
       "      <td>0.208779</td>\n",
       "      <td>0.261274</td>\n",
       "      <td>-0.422406</td>\n",
       "      <td>-1.343758</td>\n",
       "      <td>0.489445</td>\n",
       "      <td>n.s.</td>\n",
       "    </tr>\n",
       "    <tr>\n",
       "      <th>13</th>\n",
       "      <td>0.006779</td>\n",
       "      <td>0.012798</td>\n",
       "      <td>0.916833</td>\n",
       "      <td>0.004400</td>\n",
       "      <td>0.011266</td>\n",
       "      <td>0.931978</td>\n",
       "      <td>0.234490</td>\n",
       "      <td>1.679275</td>\n",
       "      <td>FDR &lt; 0.05 &amp; abs(Log2FD) &gt; 0.58</td>\n",
       "    </tr>\n",
       "    <tr>\n",
       "      <th>14</th>\n",
       "      <td>0.003242</td>\n",
       "      <td>0.004634</td>\n",
       "      <td>0.515299</td>\n",
       "      <td>0.221078</td>\n",
       "      <td>0.261274</td>\n",
       "      <td>inf</td>\n",
       "      <td>-0.517122</td>\n",
       "      <td>1.719917</td>\n",
       "      <td>n.s.</td>\n",
       "    </tr>\n",
       "    <tr>\n",
       "      <th>2</th>\n",
       "      <td>0.103743</td>\n",
       "      <td>0.122683</td>\n",
       "      <td>0.241923</td>\n",
       "      <td>0.005199</td>\n",
       "      <td>0.011266</td>\n",
       "      <td>0.243266</td>\n",
       "      <td>0.056782</td>\n",
       "      <td>0.425617</td>\n",
       "      <td>n.s.</td>\n",
       "    </tr>\n",
       "    <tr>\n",
       "      <th>3</th>\n",
       "      <td>0.068671</td>\n",
       "      <td>0.053619</td>\n",
       "      <td>-0.356960</td>\n",
       "      <td>0.003000</td>\n",
       "      <td>0.009749</td>\n",
       "      <td>-0.356127</td>\n",
       "      <td>-0.606164</td>\n",
       "      <td>-0.107902</td>\n",
       "      <td>n.s.</td>\n",
       "    </tr>\n",
       "    <tr>\n",
       "      <th>4</th>\n",
       "      <td>0.083996</td>\n",
       "      <td>0.080097</td>\n",
       "      <td>-0.068579</td>\n",
       "      <td>0.279072</td>\n",
       "      <td>0.302328</td>\n",
       "      <td>-0.069472</td>\n",
       "      <td>-0.282235</td>\n",
       "      <td>0.142415</td>\n",
       "      <td>n.s.</td>\n",
       "    </tr>\n",
       "    <tr>\n",
       "      <th>5</th>\n",
       "      <td>0.122605</td>\n",
       "      <td>0.138129</td>\n",
       "      <td>0.171993</td>\n",
       "      <td>0.026097</td>\n",
       "      <td>0.048467</td>\n",
       "      <td>0.174082</td>\n",
       "      <td>0.005995</td>\n",
       "      <td>0.341740</td>\n",
       "      <td>n.s.</td>\n",
       "    </tr>\n",
       "    <tr>\n",
       "      <th>6</th>\n",
       "      <td>0.094312</td>\n",
       "      <td>0.071492</td>\n",
       "      <td>-0.399665</td>\n",
       "      <td>0.000500</td>\n",
       "      <td>0.002600</td>\n",
       "      <td>-0.396941</td>\n",
       "      <td>-0.609620</td>\n",
       "      <td>-0.183815</td>\n",
       "      <td>n.s.</td>\n",
       "    </tr>\n",
       "    <tr>\n",
       "      <th>7</th>\n",
       "      <td>0.126142</td>\n",
       "      <td>0.152251</td>\n",
       "      <td>0.271399</td>\n",
       "      <td>0.000600</td>\n",
       "      <td>0.002600</td>\n",
       "      <td>0.271110</td>\n",
       "      <td>0.110963</td>\n",
       "      <td>0.435958</td>\n",
       "      <td>n.s.</td>\n",
       "    </tr>\n",
       "    <tr>\n",
       "      <th>8</th>\n",
       "      <td>0.020925</td>\n",
       "      <td>0.003310</td>\n",
       "      <td>-2.660443</td>\n",
       "      <td>0.000100</td>\n",
       "      <td>0.001300</td>\n",
       "      <td>-2.704122</td>\n",
       "      <td>-3.607482</td>\n",
       "      <td>-1.935353</td>\n",
       "      <td>FDR &lt; 0.05 &amp; abs(Log2FD) &gt; 0.58</td>\n",
       "    </tr>\n",
       "    <tr>\n",
       "      <th>9</th>\n",
       "      <td>0.000000</td>\n",
       "      <td>0.000221</td>\n",
       "      <td>inf</td>\n",
       "      <td>NaN</td>\n",
       "      <td>NaN</td>\n",
       "      <td>inf</td>\n",
       "      <td>NaN</td>\n",
       "      <td>NaN</td>\n",
       "      <td>n.s.</td>\n",
       "    </tr>\n",
       "  </tbody>\n",
       "</table>\n",
       "</div>"
      ],
      "text/plain": [
       "               ML6       ML7  obs_log2FD      pval       fdr  \\\n",
       "clusters                                                       \n",
       "1         0.304450  0.291703   -0.061705  0.121188  0.196930   \n",
       "10        0.005600  0.006620    0.241377  0.332567  0.332567   \n",
       "11        0.053345  0.057811    0.115991  0.203380  0.261274   \n",
       "12        0.006189  0.004634   -0.417586  0.208779  0.261274   \n",
       "13        0.006779  0.012798    0.916833  0.004400  0.011266   \n",
       "14        0.003242  0.004634    0.515299  0.221078  0.261274   \n",
       "2         0.103743  0.122683    0.241923  0.005199  0.011266   \n",
       "3         0.068671  0.053619   -0.356960  0.003000  0.009749   \n",
       "4         0.083996  0.080097   -0.068579  0.279072  0.302328   \n",
       "5         0.122605  0.138129    0.171993  0.026097  0.048467   \n",
       "6         0.094312  0.071492   -0.399665  0.000500  0.002600   \n",
       "7         0.126142  0.152251    0.271399  0.000600  0.002600   \n",
       "8         0.020925  0.003310   -2.660443  0.000100  0.001300   \n",
       "9         0.000000  0.000221         inf       NaN       NaN   \n",
       "\n",
       "          boot_mean_log2FD  boot_CI_2.5  boot_CI_97.5  \\\n",
       "clusters                                                \n",
       "1                -0.061994    -0.160401      0.035714   \n",
       "10                0.248260    -0.598159      1.134955   \n",
       "11                0.116340    -0.147192      0.384607   \n",
       "12               -0.422406    -1.343758      0.489445   \n",
       "13                0.931978     0.234490      1.679275   \n",
       "14                     inf    -0.517122      1.719917   \n",
       "2                 0.243266     0.056782      0.425617   \n",
       "3                -0.356127    -0.606164     -0.107902   \n",
       "4                -0.069472    -0.282235      0.142415   \n",
       "5                 0.174082     0.005995      0.341740   \n",
       "6                -0.396941    -0.609620     -0.183815   \n",
       "7                 0.271110     0.110963      0.435958   \n",
       "8                -2.704122    -3.607482     -1.935353   \n",
       "9                      inf          NaN           NaN   \n",
       "\n",
       "                             significance  \n",
       "clusters                                   \n",
       "1                                    n.s.  \n",
       "10                                   n.s.  \n",
       "11                                   n.s.  \n",
       "12                                   n.s.  \n",
       "13        FDR < 0.05 & abs(Log2FD) > 0.58  \n",
       "14                                   n.s.  \n",
       "2                                    n.s.  \n",
       "3                                    n.s.  \n",
       "4                                    n.s.  \n",
       "5                                    n.s.  \n",
       "6                                    n.s.  \n",
       "7                                    n.s.  \n",
       "8         FDR < 0.05 & abs(Log2FD) > 0.58  \n",
       "9                                    n.s.  "
      ]
     },
     "execution_count": 9,
     "metadata": {},
     "output_type": "execute_result"
    }
   ],
   "source": [
    "prop_res"
   ]
  },
  {
   "cell_type": "code",
   "execution_count": 23,
   "metadata": {},
   "outputs": [
    {
     "data": {
      "image/png": "[encoded data removed]",
      "text/plain": [
       "<Figure size 600x600 with 1 Axes>"
      ]
     },
     "metadata": {
      "needs_background": "light"
     },
     "output_type": "display_data"
    }
   ],
   "source": [
    "import imp\n",
    "imp.reload(proportion_test)\n",
    "\n",
    "import matplotlib.pyplot as plt\n",
    "plt.rcParams['svg.fonttype'] = 'none'\n",
    "plt.rcParams['font.family'] = ['sans-serif']\n",
    "plt.rcParams['font.sans-serif'] = ['Arial']\n",
    "proportion_test.plot_proportion_test(prop_res)"
   ]
  },
  {
   "cell_type": "code",
   "execution_count": 27,
   "metadata": {},
   "outputs": [],
   "source": [
    "prop_res.to_csv(\"ML6-7/perm_test_res_ML6-7.csv\")"
   ]
  },
  {
   "cell_type": "code",
   "execution_count": 24,
   "metadata": {},
   "outputs": [],
   "source": [
    "res=pd.DataFrame(0,index=adata.obs.batch.cat.categories,columns=adata.obs.leiden.cat.categories)\n",
    "res=pd.concat(list(map(lambda b: (adata.obs.loc[adata.obs.batch==b,\"leiden\"].value_counts()/(adata.obs.batch==b).sum())*100,\n",
    "         adata.obs.batch.cat.categories)),axis=1)\n",
    "res.columns=adata.obs.batch.cat.categories\n",
    "\n",
    "totals=pd.DataFrame(list(map(lambda b: (adata.obs.batch==b).sum(),res.columns)),\n",
    "            columns=[\"total\"],index=res.columns).T\n",
    "\n",
    "res.index = res.index.astype(str)\n",
    "\n",
    "res = pd.concat([res,pd.DataFrame(list(map(lambda b: (adata.obs.batch==b).sum(),res.columns)),\n",
    "            columns=[\"total\"],index=res.columns).T],axis=0)\n",
    "res.loc[\"total\"]=res.loc[\"total\"].astype(int)"
   ]
  },
  {
   "cell_type": "code",
   "execution_count": 26,
   "metadata": {},
   "outputs": [],
   "source": [
    "res.to_csv(\"ML6-7/prop_totals.csv\")"
   ]
  }
 ],
 "metadata": {
  "kernelspec": {
   "display_name": "bio-gpu-18",
   "language": "python",
   "name": "bio-gpu-18"
  },
  "language_info": {
   "codemirror_mode": {
    "name": "ipython",
    "version": 3
   },
   "file_extension": ".py",
   "mimetype": "text/x-python",
   "name": "python",
   "nbconvert_exporter": "python",
   "pygments_lexer": "ipython3",
   "version": "3.8.8"
  }
 },
 "nbformat": 4,
 "nbformat_minor": 4
}
